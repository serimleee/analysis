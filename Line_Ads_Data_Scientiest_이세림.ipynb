{
  "nbformat": 4,
  "nbformat_minor": 0,
  "metadata": {
    "colab": {
      "private_outputs": true,
      "provenance": [],
      "toc_visible": true,
      "authorship_tag": "ABX9TyNkPlrMTRAIpcuOKu9nyazb",
      "include_colab_link": true
    },
    "kernelspec": {
      "name": "python3",
      "display_name": "Python 3"
    },
    "language_info": {
      "name": "python"
    },
    "accelerator": "TPU"
  },
  "cells": [
    {
      "cell_type": "markdown",
      "metadata": {
        "id": "view-in-github",
        "colab_type": "text"
      },
      "source": [
        "<a href=\"https://colab.research.google.com/github/serimleee/analysis/blob/main/Line_Ads_Data_Scientiest_%EC%9D%B4%EC%84%B8%EB%A6%BC.ipynb\" target=\"_parent\"><img src=\"https://colab.research.google.com/assets/colab-badge.svg\" alt=\"Open In Colab\"/></a>"
      ]
    },
    {
      "cell_type": "code",
      "execution_count": null,
      "metadata": {
        "id": "ncs0j3Bz9oha"
      },
      "outputs": [],
      "source": [
        "import numpy as np\n",
        "import pandas as pd\n",
        "import matplotlib.pyplot as plt\n",
        "import seaborn as sns\n",
        "import matplotlib as mpl\n",
        "from datetime import datetime\n",
        "from sklearn.metrics.pairwise import cosine_similarity\n",
        "\n",
        "%config InlineBackend.figure_format = 'retina' # 선명하게 한글이 보일 수 있게\n",
        "!apt -qq -y install fonts-nanum # 나눔 설치\n",
        "\n",
        "import matplotlib.font_manager as fm\n",
        "fontpath = '/usr/share/fonts/truetype/nanum/NanumBarunGothic.ttf'\n",
        "font = fm.FontProperties(fname=fontpath, size=9)\n",
        "%config InlineBackend.figure_format = 'retina'\n",
        "plt.rc('font', family='NanumBarunGothic')"
      ]
    },
    {
      "cell_type": "code",
      "source": [
        "# 데이터업로드\n",
        "from google.colab import files\n",
        "uploaded = files.upload()"
      ],
      "metadata": {
        "id": "aRd_20tA_PgK"
      },
      "execution_count": null,
      "outputs": []
    },
    {
      "cell_type": "code",
      "source": [
        "users = pd.read_csv('_users.csv')\n",
        "purchase_log = pd.read_csv('_purchase_log.csv')\n",
        "products = pd.read_csv('_products.csv', encoding = 'cp949')\n",
        "click_log = pd.read_csv('_click_log.csv')\n",
        "_20230401_users = pd.read_csv('_20230401_users.csv')"
      ],
      "metadata": {
        "id": "Ktdf1JRL_jJQ"
      },
      "execution_count": null,
      "outputs": []
    },
    {
      "cell_type": "code",
      "source": [
        "# 사용자 연령,성별 정보\n",
        "users.head(10)"
      ],
      "metadata": {
        "id": "Y-bQLREuAOcM"
      },
      "execution_count": null,
      "outputs": []
    },
    {
      "cell_type": "code",
      "source": [
        "# 사용자의 상품 구매이력\n",
        "purchase_log.head(10)"
      ],
      "metadata": {
        "id": "cDQRTRGmAQso"
      },
      "execution_count": null,
      "outputs": []
    },
    {
      "cell_type": "code",
      "source": [
        "# 상품의 메타 정보\n",
        "products.head(10)"
      ],
      "metadata": {
        "id": "JZIzB5TLAZ-z"
      },
      "execution_count": null,
      "outputs": []
    },
    {
      "cell_type": "code",
      "source": [
        "# 사용자의 상품 클릭이력\n",
        "click_log.head(10)"
      ],
      "metadata": {
        "id": "T3VtVrxpAqA9"
      },
      "execution_count": null,
      "outputs": []
    },
    {
      "cell_type": "code",
      "source": [
        "# 추천 대상 사용자 정보\n",
        "_20230401_users.head(10)"
      ],
      "metadata": {
        "id": "IwSfI7IMAyPT"
      },
      "execution_count": null,
      "outputs": []
    },
    {
      "cell_type": "code",
      "source": [
        "# 각각의 데이터 건수\n",
        "print('users :' + str(len(users)), '\\n'\n",
        "      , 'purchase_log :' + str(len(purchase_log)), '\\n'\n",
        "      , 'click_log :' + str(len(click_log)), '\\n'\n",
        "      , 'products :' + str(len(products)), '\\n'\n",
        "      , '_20230401_users :' + str(len(_20230401_users)))"
      ],
      "metadata": {
        "id": "pxjCTXOdA5sQ"
      },
      "execution_count": null,
      "outputs": []
    },
    {
      "cell_type": "markdown",
      "source": [
        "# 상품 추천을 위한 Insight 분석"
      ],
      "metadata": {
        "id": "szQerIQRCn6F"
      }
    },
    {
      "cell_type": "markdown",
      "source": [
        "## 1) 사용자가 최종 구매한 상품은 과거에(일자 기준) 클릭했던 상품을 다시 찾아 구매한 비중이 어느정도 일까?\n"
      ],
      "metadata": {
        "id": "wP6_HmVszKkD"
      }
    },
    {
      "cell_type": "code",
      "source": [
        "# 클릭로그와 구매로그 건수\n",
        "len(click_log[['user_id','product_id','dt']].drop_duplicates()), len(purchase_log[['user_id','product_id','dt']].drop_duplicates())"
      ],
      "metadata": {
        "id": "aMnD2e1oCy8K"
      },
      "execution_count": null,
      "outputs": []
    },
    {
      "cell_type": "code",
      "source": [
        "# 구매로그와 클릭로그를 user_id 기준 join\n",
        "purchase_click_merge = pd.merge(purchase_log, click_log, how = 'inner', on = ('user_id'))\n",
        "purchase_click_merge"
      ],
      "metadata": {
        "id": "HZ_HyrDGH9Tl"
      },
      "execution_count": null,
      "outputs": []
    },
    {
      "cell_type": "code",
      "source": [
        "# 컬럼명 변경\n",
        "purchase_click_merge.columns = ['user_id','purchase_product_id','purchase_measure','purchase_dt','click_product_id','click_measure','click_dt']\n",
        "purchase_click_merge"
      ],
      "metadata": {
        "id": "jE_JFfiyMhd-"
      },
      "execution_count": null,
      "outputs": []
    },
    {
      "cell_type": "code",
      "source": [
        "# 상품을 구매하기 이전에(일자 기준) 클릭했던 상품을 다시 찾아 구매한건\n",
        "purchase_bf_click = purchase_click_merge[ (purchase_click_merge['purchase_dt']>purchase_click_merge['click_dt']) & (purchase_click_merge['purchase_product_id']==purchase_click_merge['click_product_id']) ]"
      ],
      "metadata": {
        "id": "Wskk8UW5J3py"
      },
      "execution_count": null,
      "outputs": []
    },
    {
      "cell_type": "code",
      "source": [
        "purchase_bf_click"
      ],
      "metadata": {
        "id": "bOHRp2XgMcee"
      },
      "execution_count": null,
      "outputs": []
    },
    {
      "cell_type": "code",
      "source": [
        "# 상품을 구매하기 이전에 클릭했던 상품을 구매한 로그수, 전체 구매로그 중 비율\n",
        "len(purchase_bf_click), len(purchase_bf_click)/len(purchase_log)"
      ],
      "metadata": {
        "id": "Mdi-v7QihU5U"
      },
      "execution_count": null,
      "outputs": []
    },
    {
      "cell_type": "markdown",
      "source": [
        "## 2) 사용자가 최종 구매한 상품은 최초 클릭 ~ 최종 구매 의사결정까지 얼마나 소요되는가?"
      ],
      "metadata": {
        "id": "qyimuehkmkuB"
      }
    },
    {
      "cell_type": "code",
      "source": [
        "# 상품을 구매한 당일 포함하여, 최종 구매한 상품의 이전 클릭 데이터\n",
        "purchase_ic_day_bf_click = purchase_click_merge[ (purchase_click_merge['purchase_dt']>=purchase_click_merge['click_dt']) & (purchase_click_merge['purchase_product_id']==purchase_click_merge['click_product_id']) ]\n",
        "purchase_ic_day_bf_click"
      ],
      "metadata": {
        "id": "sToUMlaFl-Ms"
      },
      "execution_count": null,
      "outputs": []
    },
    {
      "cell_type": "code",
      "source": [
        "len(purchase_ic_day_bf_click)"
      ],
      "metadata": {
        "id": "JvVga2HpxoFu"
      },
      "execution_count": null,
      "outputs": []
    },
    {
      "cell_type": "code",
      "source": [
        "# 최종 구매한 상품의 최초 클릭일\n",
        "purchase_ic_day_bf_click = purchase_ic_day_bf_click.groupby(['user_id','purchase_product_id','purchase_dt'])['click_dt'].min().reset_index()\n",
        "purchase_ic_day_bf_click"
      ],
      "metadata": {
        "id": "6V_3N1vzmwpH"
      },
      "execution_count": null,
      "outputs": []
    },
    {
      "cell_type": "code",
      "source": [
        "# datetime 형태로 변환\n",
        "purchase_ic_day_bf_click['purchase_dt'] = pd.to_datetime(purchase_ic_day_bf_click['purchase_dt'], format='%Y%m%d')\n",
        "purchase_ic_day_bf_click['click_dt'] = pd.to_datetime(purchase_ic_day_bf_click['click_dt'], format='%Y%m%d')\n",
        "purchase_ic_day_bf_click.info()"
      ],
      "metadata": {
        "id": "MTLzO0pVpQxS"
      },
      "execution_count": null,
      "outputs": []
    },
    {
      "cell_type": "code",
      "source": [
        "# 최초 클릭 후 구매까지 구매의사결정 소요일수\n",
        "purchase_ic_day_bf_click['click_to_purchase_days'] = (purchase_ic_day_bf_click['purchase_dt'] - purchase_ic_day_bf_click['click_dt']).dt.days\n",
        "purchase_ic_day_bf_click"
      ],
      "metadata": {
        "id": "ajEVh7eXqIgC"
      },
      "execution_count": null,
      "outputs": []
    },
    {
      "cell_type": "code",
      "source": [
        "# 클릭 후 구매까지 구매의사결정 소요일수 분포\n",
        "fig=plt.figure(figsize=(10,5))\n",
        "ax=fig.gca()\n",
        "sns.histplot(purchase_ic_day_bf_click['click_to_purchase_days'], kde=True, discrete=True ,color='green')\n",
        "plt.ylabel('purchase_log_count')\n",
        "plt.xticks(range(min(purchase_ic_day_bf_click['click_to_purchase_days']),max(purchase_ic_day_bf_click['click_to_purchase_days'])+1 ))"
      ],
      "metadata": {
        "id": "um4HcLYamdow"
      },
      "execution_count": null,
      "outputs": []
    },
    {
      "cell_type": "code",
      "source": [
        "# 당일 최초 클릭 후 당일 구매인 0 건수\n",
        "len(purchase_ic_day_bf_click[purchase_ic_day_bf_click['click_to_purchase_days']==0])"
      ],
      "metadata": {
        "id": "hJtnr_bSx9ex"
      },
      "execution_count": null,
      "outputs": []
    },
    {
      "cell_type": "markdown",
      "source": [
        "## 3) 성별/연령대별로 구매하는 상품의 카테고리 특성이 다를까?"
      ],
      "metadata": {
        "id": "-_jgX4Yw2KP-"
      }
    },
    {
      "cell_type": "code",
      "source": [
        "# 구매로그에 상품 카테고리 정보 맵핑\n",
        "purchase_category = pd.merge(purchase_log, products[['product_id','category_kor','price']], how = 'inner', on = 'product_id')\n",
        "purchase_category"
      ],
      "metadata": {
        "id": "63HJjmOlof6B"
      },
      "execution_count": null,
      "outputs": []
    },
    {
      "cell_type": "code",
      "source": [
        "# 구매로그에 사용자 demo 정보 맵핑\n",
        "purchase_category_demo = pd.merge(purchase_category, users, how = 'inner', on = 'user_id')\n",
        "purchase_category_demo"
      ],
      "metadata": {
        "id": "jVwfl7BCzeN9"
      },
      "execution_count": null,
      "outputs": []
    },
    {
      "cell_type": "code",
      "source": [
        "# demo별 분포\n",
        "purchase_category_demo.groupby(['age_range','gender'])['user_id'].count()\n",
        "pd.pivot_table(purchase_category_demo, index = 'age_range', columns = 'gender', values='user_id', aggfunc = 'count')"
      ],
      "metadata": {
        "id": "VbTqWKEg3rPW"
      },
      "execution_count": null,
      "outputs": []
    },
    {
      "cell_type": "code",
      "source": [
        "purchase_category_age_cnt = purchase_category_demo.groupby('age_range')['user_id'].count()\n",
        "fig=plt.figure(figsize=(10,5))\n",
        "ax=fig.gca()\n",
        "sns.barplot(x=purchase_category_age_cnt.index, y=purchase_category_age_cnt.values, color='green')\n",
        "plt.ylabel('purchase_log_count')"
      ],
      "metadata": {
        "id": "M0Qmqcez6H5K"
      },
      "execution_count": null,
      "outputs": []
    },
    {
      "cell_type": "code",
      "source": [
        "# 연령 regrouping\n",
        "def age_regrouping(x):\n",
        "    if x == '20-24' or x == '25-29' :\n",
        "        return '20-29'\n",
        "    elif x == '60-64' or x == '65-69' or x == '70-' :\n",
        "        return '60-'\n",
        "    else :\n",
        "        return x"
      ],
      "metadata": {
        "id": "j5GltTe89SZB"
      },
      "execution_count": null,
      "outputs": []
    },
    {
      "cell_type": "code",
      "source": [
        "purchase_category_demo['age_regroup'] = purchase_category_demo['age_range'].apply(lambda x : age_regrouping(x))\n",
        "purchase_category_demo"
      ],
      "metadata": {
        "id": "akyE_dqR-fWO"
      },
      "execution_count": null,
      "outputs": []
    },
    {
      "cell_type": "code",
      "source": [
        "# demo별 카테고리별 구매건수, 구매량 집계\n",
        "purchase_category_demo_stats = purchase_category_demo.groupby(['age_regroup','gender','category_kor']).agg({'measure':['count','sum'],'price':'mean'}).reset_index()\n",
        "purchase_category_demo_stats"
      ],
      "metadata": {
        "id": "IuFsrHatzrWx"
      },
      "execution_count": null,
      "outputs": []
    },
    {
      "cell_type": "code",
      "source": [
        "purchase_category_demo_stats.columns = ['age_regroup','gender','category_kor','count','sum','price_mean']\n",
        "purchase_category_demo_stats"
      ],
      "metadata": {
        "id": "UYT9Qzi89gEc"
      },
      "execution_count": null,
      "outputs": []
    },
    {
      "cell_type": "code",
      "source": [
        "# demo별 구매건수와 구매량이 높은순으로 rank 부여 > 어떤 카테고리를 많이 구매했는지\n",
        "purchase_category_demo_stats['rank'] = purchase_category_demo_stats.sort_values(['count','sum'], ascending = [False,False]).groupby(['age_regroup','gender']).cumcount()+1 # 그룹내 번호부여\n",
        "purchase_category_demo_stats = purchase_category_demo_stats[purchase_category_demo_stats['age_regroup']!='15-19']"
      ],
      "metadata": {
        "id": "axZABaVh0Maf"
      },
      "execution_count": null,
      "outputs": []
    },
    {
      "cell_type": "code",
      "source": [
        "# demo 별 1,2순위 카테고리 도출\n",
        "purchase_category_demo_stats[purchase_category_demo_stats['rank']==2].sort_values(by=['age_regroup','gender','rank'], ascending=True)"
      ],
      "metadata": {
        "id": "reQB4DOG5by1"
      },
      "execution_count": null,
      "outputs": []
    },
    {
      "cell_type": "code",
      "source": [
        "# demo 별 1,2순위 카테고리 도출\n",
        "purchase_category_demo_stats[purchase_category_demo_stats['rank']==2].sort_values(by=['age_regroup','gender','rank'], ascending=True)"
      ],
      "metadata": {
        "id": "E__zNr1KLBmH"
      },
      "execution_count": null,
      "outputs": []
    },
    {
      "cell_type": "code",
      "source": [
        "# 1순위가 스마트폰,태블릿 스마트폰 데이터 price_mean 확인 목적\n",
        "temp1 = purchase_category_demo_stats[(purchase_category_demo_stats['rank']==1) & (purchase_category_demo_stats['category_kor']=='스마트 폰, 태블릿 스마트 폰')]\n",
        "temp1"
      ],
      "metadata": {
        "id": "jMbaAL3pHUJB"
      },
      "execution_count": null,
      "outputs": []
    },
    {
      "cell_type": "code",
      "source": [
        "# 2순위가 스마트폰,태블릿 스마트폰 데이터 price_mean 확인 목적\n",
        "temp2 = purchase_category_demo_stats[(purchase_category_demo_stats['rank']==2) & (purchase_category_demo_stats['category_kor']=='다이어트, 건강 건강 식품')]\n",
        "temp2"
      ],
      "metadata": {
        "id": "6p-_yTHlKkXk"
      },
      "execution_count": null,
      "outputs": []
    },
    {
      "cell_type": "code",
      "source": [
        "# 2순위가 스마트폰,태블릿 스마트폰 데이터 price_mean 확인 목적\n",
        "temp3 = purchase_category_demo_stats[(purchase_category_demo_stats['rank']==2) & (purchase_category_demo_stats['category_kor']=='다이어트, 건강 개호 용품')]\n",
        "temp3"
      ],
      "metadata": {
        "id": "H7CVf3TtKz2w"
      },
      "execution_count": null,
      "outputs": []
    },
    {
      "cell_type": "code",
      "source": [
        "purchase_category_demo"
      ],
      "metadata": {
        "id": "TVAnpEsaKi14"
      },
      "execution_count": null,
      "outputs": []
    },
    {
      "cell_type": "code",
      "source": [
        "# demo별 카테고리별 평균구매금액\n",
        "purchase_category_demo_price = purchase_category_demo.groupby(['age_regroup','gender','category_kor']).agg({'measure':['count','sum']}).reset_index()\n",
        "purchase_category_demo_stats"
      ],
      "metadata": {
        "id": "_tNivziGHK_N"
      },
      "execution_count": null,
      "outputs": []
    },
    {
      "cell_type": "markdown",
      "source": [
        "# 상품 추천 로직"
      ],
      "metadata": {
        "id": "ZDmgiBQW3LDi"
      }
    },
    {
      "cell_type": "markdown",
      "source": [
        "## 1) IBCF 기반 : 사용자가 클릭한 상품과 유사도가 높지만, 아직 클릭해보지 않은 상품 추천"
      ],
      "metadata": {
        "id": "-olY0XQOn9OS"
      }
    },
    {
      "cell_type": "code",
      "source": [
        "# 추천 대상 사용자\n",
        "len(_20230401_users)"
      ],
      "metadata": {
        "id": "6joPijRX9H58"
      },
      "execution_count": null,
      "outputs": []
    },
    {
      "cell_type": "code",
      "source": [
        "# 추천대상자가 클릭한 상품 410개 - maxtrix allign\n",
        "recomm_user_click = pd.merge(_20230401_users,click_log, how='inner', on='user_id')\n",
        "len(recomm_user_click['product_id'].drop_duplicates()), len(recomm_user_click['user_id'].drop_duplicates())"
      ],
      "metadata": {
        "id": "xquyknZrbInN"
      },
      "execution_count": null,
      "outputs": []
    },
    {
      "cell_type": "code",
      "source": [
        " # 410개 상품 클릭한 로그만 필터링 - maxtrix allign\n",
        " recommend_click_log = pd.merge(click_log,recomm_user_click['product_id'].drop_duplicates(),how='inner',on='product_id')\n",
        " recommend_click_log"
      ],
      "metadata": {
        "id": "2455TNw9eFxF"
      },
      "execution_count": null,
      "outputs": []
    },
    {
      "cell_type": "code",
      "source": [
        "# 상품당 클릭한 유저수, 평균적으로 몇명의 사용자가 클릭하는지 > 너무 적은 사용자만 클릭한 상품 제외 고려\n",
        "click_user_cnt = recommend_click_log.groupby('product_id')['user_id'].nunique().reset_index()\n",
        "click_user_cnt['user_id'].mean(), click_user_cnt['user_id'].median()"
      ],
      "metadata": {
        "id": "gPaeoZQGRRs6"
      },
      "execution_count": null,
      "outputs": []
    },
    {
      "cell_type": "code",
      "source": [
        "# 3명 이상이 클릭한 상품 데이터로 matrix 구성\n",
        "click_log_user_10up = pd.merge(recommend_click_log, click_user_cnt[click_user_cnt['user_id']>=3]['product_id'], how = 'inner', on = 'product_id')\n",
        "len(click_log_user_10up)"
      ],
      "metadata": {
        "id": "F5DIDu-cR49j"
      },
      "execution_count": null,
      "outputs": []
    },
    {
      "cell_type": "code",
      "source": [
        "click_log_user_10up['user_id'].nunique(), click_log_user_10up['product_id'].nunique()"
      ],
      "metadata": {
        "id": "eCuhqU20MQfB"
      },
      "execution_count": null,
      "outputs": []
    },
    {
      "cell_type": "code",
      "source": [
        "# product*user_id full matrix 65 * 3150\n",
        "click_matrix = click_log_user_10up.pivot_table(index = 'product_id', columns = 'user_id', values='measure', aggfunc='sum')\n",
        "click_matrix"
      ],
      "metadata": {
        "id": "fVdsZrrrB4A-"
      },
      "execution_count": null,
      "outputs": []
    },
    {
      "cell_type": "code",
      "source": [
        "click_matrix_dummy = click_matrix.copy().fillna(0)\n",
        "click_matrix_dummy"
      ],
      "metadata": {
        "id": "7h21r2mjCeaA"
      },
      "execution_count": null,
      "outputs": []
    },
    {
      "cell_type": "code",
      "source": [
        "pd.set_option('display.max_rows',20)\n",
        "pd.set_option('display.max_columns',20)"
      ],
      "metadata": {
        "id": "pwsM9KKBH-od"
      },
      "execution_count": null,
      "outputs": []
    },
    {
      "cell_type": "code",
      "source": [
        "# cosine 유사도\n",
        "item_similarity = cosine_similarity(click_matrix_dummy, click_matrix_dummy)\n",
        "item_similarity = pd.DataFrame(item_similarity, index=click_matrix.index, columns=click_matrix.index)"
      ],
      "metadata": {
        "id": "cKpz5Kq8M0AZ"
      },
      "execution_count": null,
      "outputs": []
    },
    {
      "cell_type": "code",
      "source": [
        "item_similarity"
      ],
      "metadata": {
        "id": "V5ExxupbS1kp"
      },
      "execution_count": null,
      "outputs": []
    },
    {
      "cell_type": "code",
      "source": [
        "item_similarity #.head(20)"
      ],
      "metadata": {
        "id": "SvJJlyPc0dFE"
      },
      "execution_count": null,
      "outputs": []
    },
    {
      "cell_type": "code",
      "source": [
        "products[products['product_id'] == 6082]"
      ],
      "metadata": {
        "id": "b_GXCjf917DW"
      },
      "execution_count": null,
      "outputs": []
    },
    {
      "cell_type": "code",
      "source": [
        "products[products['product_id'] == 766]"
      ],
      "metadata": {
        "id": "b3oyOXN82RxT"
      },
      "execution_count": null,
      "outputs": []
    },
    {
      "cell_type": "code",
      "source": [
        "products[products['product_id'] == 309]"
      ],
      "metadata": {
        "id": "0oBGmQuL2gRH"
      },
      "execution_count": null,
      "outputs": []
    },
    {
      "cell_type": "code",
      "source": [
        "products[products['product_id'] == 14]"
      ],
      "metadata": {
        "id": "Ieyu3GrN2iJI"
      },
      "execution_count": null,
      "outputs": []
    },
    {
      "cell_type": "code",
      "source": [
        "# 추천대상자 matrix\n",
        "recomm_user_click_product = pd.merge(recomm_user_click, click_log_user_10up['product_id'].drop_duplicates(), how = 'inner', on='product_id' )\n",
        "user_matrix = pd.pivot_table(recomm_user_click_product, index='user_id',columns='product_id', values='measure', aggfunc='sum')\n",
        "user_matrix = user_matrix.copy().fillna(0)\n",
        "user_matrix"
      ],
      "metadata": {
        "id": "FMLawbkFWYZD"
      },
      "execution_count": null,
      "outputs": []
    },
    {
      "cell_type": "code",
      "source": [
        "# 예측\n",
        "def predict(ratings, similarity):\n",
        "    pred = ratings.dot(similarity) / np.array([np.abs(similarity.sum(axis=1))])\n",
        "    return pred"
      ],
      "metadata": {
        "id": "u_04RYNmW0U1"
      },
      "execution_count": null,
      "outputs": []
    },
    {
      "cell_type": "code",
      "source": [
        "item_prediction = predict(user_matrix, item_similarity)\n",
        "item_prediction"
      ],
      "metadata": {
        "id": "aOWxsgMnW3Vr"
      },
      "execution_count": null,
      "outputs": []
    },
    {
      "cell_type": "code",
      "source": [
        "# 이미 클릭한 것은 제외\n",
        "def remove_rated_items(ratings, predictions):\n",
        "    rated_items = (ratings != 0)\n",
        "    predictions[rated_items] = -np.inf\n",
        "    return predictions\n",
        "\n",
        "updated_predictions = remove_rated_items(user_matrix, item_prediction)\n",
        "\n",
        "updated_predictions"
      ],
      "metadata": {
        "id": "bZM24bmykhbc"
      },
      "execution_count": null,
      "outputs": []
    },
    {
      "cell_type": "code",
      "source": [
        "# top3\n",
        "\n",
        "ibcf_recomm_temp = updated_predictions.apply(lambda row: pd.Series(row.nlargest(3).index), axis=1)\n",
        "ibcf_recomm_temp.columns = ['product_id_1', 'product_id_2', 'product_id_3']\n",
        "\n",
        "ibcf_recomm_temp = ibcf_recomm_temp.reset_index()\n",
        "ibcf_recomm_temp"
      ],
      "metadata": {
        "id": "ZxPOKC-AksHb"
      },
      "execution_count": null,
      "outputs": []
    },
    {
      "cell_type": "markdown",
      "source": [
        "## 2) DEMO 기반 : 사용자와 동일한 성별/연령대 그룹이 가장 많이 구매한 상품 추천"
      ],
      "metadata": {
        "id": "c5H3liGTn55A"
      }
    },
    {
      "cell_type": "code",
      "source": [
        "# 연령 regrouping\n",
        "def age_regrouping(x):\n",
        "    if  x == '-14' or x == '15-19' :\n",
        "        return '-19'\n",
        "    elif x == '20-24' or x == '25-29' :\n",
        "        return '20-29'\n",
        "    elif x == '30-34' or x == '35-39' :\n",
        "        return '30-39'\n",
        "    elif x == '40-44' or x == '45-49' :\n",
        "        return '40-49'\n",
        "    elif x == '50-54' or x == '55-59' :\n",
        "        return '50-59'\n",
        "    elif x == '60-64' or x == '65-69' or x == '70-' :\n",
        "        return '60-'\n",
        "    else :\n",
        "        return x"
      ],
      "metadata": {
        "id": "uoBfb8uLxMjY"
      },
      "execution_count": null,
      "outputs": []
    },
    {
      "cell_type": "code",
      "source": [
        "purchase_category_demo"
      ],
      "metadata": {
        "id": "4JBI9B4W8pYZ"
      },
      "execution_count": null,
      "outputs": []
    },
    {
      "cell_type": "code",
      "source": [
        "# 연령 10세 단위로 크게 regrouping\n",
        "purchase_category_demo['age_regroup'] = purchase_category_demo['age_range'].apply(lambda x : age_regrouping(x))"
      ],
      "metadata": {
        "id": "YTv4u_NuySa-"
      },
      "execution_count": null,
      "outputs": []
    },
    {
      "cell_type": "code",
      "source": [
        "purchase_category_demo['age_regroup'].value_counts()"
      ],
      "metadata": {
        "id": "U5JdmBK-ziG8"
      },
      "execution_count": null,
      "outputs": []
    },
    {
      "cell_type": "code",
      "source": [
        "# 연령/성별로 구매한 상품id별 구매건/구매량 집계\n",
        "purchase_category_demo_product_cnt = purchase_category_demo.groupby(['age_regroup','gender','product_id']).agg({'measure' : ['count','sum']}).reset_index()\n",
        "purchase_category_demo_product_cnt['age_regroup'].value_counts()\n",
        "purchase_category_demo_product_cnt.columns = ['age_regroup','gender','product_id','count','sum']"
      ],
      "metadata": {
        "id": "xdPgMILnn5Lh"
      },
      "execution_count": null,
      "outputs": []
    },
    {
      "cell_type": "code",
      "source": [
        "# 성별/연령별로 구매건,구매량이 많은 순으로 rank 부여\n",
        "purchase_category_demo_product_cnt['rank'] = purchase_category_demo_product_cnt.sort_values(['count','sum'], ascending = [False,False]).groupby(['age_regroup','gender']).cumcount()+1 # 그룹내 번호부여"
      ],
      "metadata": {
        "id": "CUkRsqY-t3BQ"
      },
      "execution_count": null,
      "outputs": []
    },
    {
      "cell_type": "code",
      "source": [
        "pd.set_option('display.max_rows',10)\n",
        "pd.set_option('display.max_columns',10)"
      ],
      "metadata": {
        "id": "lTlMlHzgu6c2"
      },
      "execution_count": null,
      "outputs": []
    },
    {
      "cell_type": "code",
      "source": [
        "# 성별/연령별로 top 2만 확인 > 1위는 분명한데 2위부터 건수가 작아 애매함\n",
        "purchase_category_demo_product_cnt[ (purchase_category_demo_product_cnt['rank']<=2)].sort_values(['age_regroup','gender','rank'], ascending = [True,True,True])"
      ],
      "metadata": {
        "id": "ih5jywztuZE6"
      },
      "execution_count": null,
      "outputs": []
    },
    {
      "cell_type": "code",
      "source": [
        "# 성별/연령별로 구매 가장 많이한 top1 상품\n",
        "demo_purchase_top1 = purchase_category_demo_product_cnt[ (purchase_category_demo_product_cnt['rank']==1)].sort_values(['age_regroup','gender','rank'], ascending = [True,True,True])\n",
        "demo_purchase_top1"
      ],
      "metadata": {
        "id": "sdZo-0OX-gke"
      },
      "execution_count": null,
      "outputs": []
    },
    {
      "cell_type": "code",
      "source": [
        "# 성별/연령별로 구매 가장 많이한 top2 상품\n",
        "demo_purchase_top2 = purchase_category_demo_product_cnt[ (purchase_category_demo_product_cnt['rank']==2)].sort_values(['age_regroup','gender','rank'], ascending = [True,True,True])\n",
        "demo_purchase_top2"
      ],
      "metadata": {
        "id": "QRZfnnZMAC7E"
      },
      "execution_count": null,
      "outputs": []
    },
    {
      "cell_type": "code",
      "source": [
        "# 성별/연령별로 구매 가장 많이한 top3 상품\n",
        "demo_purchase_top3 = purchase_category_demo_product_cnt[ (purchase_category_demo_product_cnt['rank']==3)].sort_values(['age_regroup','gender','rank'], ascending = [True,True,True])\n",
        "demo_purchase_top3"
      ],
      "metadata": {
        "id": "sYAB7j7P9-4l"
      },
      "execution_count": null,
      "outputs": []
    },
    {
      "cell_type": "code",
      "source": [
        "# 그 1순위 상품은 무엇인가\n",
        "pd.merge(demo_purchase_top1,products, how='inner', on = 'product_id').sort_values(by= ['age_regroup','gender'])"
      ],
      "metadata": {
        "id": "w5vj1rq9-ukv"
      },
      "execution_count": null,
      "outputs": []
    },
    {
      "cell_type": "code",
      "source": [
        "# 그 2순위 상품은 무엇인가\n",
        "pd.merge(demo_purchase_top2,products, how='inner', on = 'product_id').sort_values(by= ['age_regroup','gender'])"
      ],
      "metadata": {
        "id": "oAxrA4ZcASEt"
      },
      "execution_count": null,
      "outputs": []
    },
    {
      "cell_type": "code",
      "source": [
        "# 그 3순위 상품은 무엇인가\n",
        "pd.merge(demo_purchase_top3,products, how='inner', on = 'product_id').sort_values(by= ['age_regroup','gender'])"
      ],
      "metadata": {
        "id": "_h4KnJ2X-Enl"
      },
      "execution_count": null,
      "outputs": []
    },
    {
      "cell_type": "code",
      "source": [
        "demo_top2 = pd.merge( demo_purchase_top1[['age_regroup','gender','product_id','count','sum']],demo_purchase_top2[['age_regroup','gender','product_id','count','sum']], how = 'inner', on = ['age_regroup','gender'] )\n",
        "demo_top2.columns = ['age_regroup','gender','product_id_1','count_1','sum_1','product_id_2','count_2','sum_2']\n",
        "demo_top2"
      ],
      "metadata": {
        "id": "_c1WgoTa_d2w"
      },
      "execution_count": null,
      "outputs": []
    },
    {
      "cell_type": "code",
      "source": [
        "pd.set_option('display.max_columns',20)\n",
        "demo_top3 = pd.merge( demo_top2,demo_purchase_top3[['age_regroup','gender','product_id','count','sum']], how = 'inner', on = ['age_regroup','gender'] )\n",
        "demo_top3.columns = ['age_regroup','gender','product_id_1','count_1','sum_1','product_id_2','count_2','sum_2','product_id_3','count_3','sum_3']\n",
        "demo_top3"
      ],
      "metadata": {
        "id": "GELtZ5lg-gnN"
      },
      "execution_count": null,
      "outputs": []
    },
    {
      "cell_type": "code",
      "source": [
        "# ibcf로 추천받지 않은 대상자\n",
        "not_ibcf_recom_user = _20230401_users[~_20230401_users['user_id'].isin(ibcf_recomm_temp['user_id'])]\n",
        "not_ibcf_recom_user['age_regroup'] = not_ibcf_recom_user['age_range'].apply(lambda x : age_regrouping(x))\n",
        "not_ibcf_recom_user['age_regroup'].value_counts()"
      ],
      "metadata": {
        "id": "r0-4FOMKCZy_"
      },
      "execution_count": null,
      "outputs": []
    },
    {
      "cell_type": "code",
      "source": [
        "len(ibcf_recomm_temp)"
      ],
      "metadata": {
        "id": "jpDjVV7TQ47Y"
      },
      "execution_count": null,
      "outputs": []
    },
    {
      "cell_type": "code",
      "source": [
        "len(not_ibcf_recom_user)"
      ],
      "metadata": {
        "id": "Jo6bjh5meqbL"
      },
      "execution_count": null,
      "outputs": []
    },
    {
      "cell_type": "code",
      "source": [
        "_20230401_users['gender'].value_counts()"
      ],
      "metadata": {
        "id": "uNwtpQMVSWft"
      },
      "execution_count": null,
      "outputs": []
    },
    {
      "cell_type": "code",
      "source": [
        "# ibcf로 추천받지 않은 대상자에게 demo 기반 추천 맵핑 > 7명 미맵핑\n",
        "demo_recom_temp = pd.merge(not_ibcf_recom_user, demo_top3[['age_regroup','gender','product_id_1','product_id_2','product_id_3']], how = 'inner', on = ['age_regroup','gender'])\n",
        "len(demo_recom_temp)"
      ],
      "metadata": {
        "id": "dEJFesEiP_1L"
      },
      "execution_count": null,
      "outputs": []
    },
    {
      "cell_type": "code",
      "source": [
        "demo_recom_temp.info()"
      ],
      "metadata": {
        "id": "uFPjEAIVHS5S"
      },
      "execution_count": null,
      "outputs": []
    },
    {
      "cell_type": "code",
      "source": [
        "# 기존에 클릭했던 상품인지 check하여 추천여부 결정\n",
        "def recomm_yn(table1,table2) :\n",
        "    joined_df_1 = pd.merge(table1,table2[['user_id','product_id']].drop_duplicates() ,how = 'inner', left_on = ['user_id','product_id_1'], right_on = ['user_id','product_id'] )\n",
        "\n",
        "    joined_df_2 = pd.merge(table1,table2[['user_id','product_id']].drop_duplicates(),how = 'inner', left_on = ['user_id','product_id_2'], right_on = ['user_id','product_id'] )\n",
        "\n",
        "    joined_df_3 = pd.merge(table1,table2[['user_id','product_id']].drop_duplicates(),how = 'inner', left_on = ['user_id','product_id_3'], right_on = ['user_id','product_id'] )\n",
        "\n",
        "    table1['recomm_1'] = 1\n",
        "    table1['recomm_2'] = 1\n",
        "    table1['recomm_3'] = 1\n",
        "\n",
        "    # 이미 클릭해본 상품인 경우 추천=-1으로 업데이트\n",
        "    table1.loc[table1['user_id'].isin(joined_df_1['user_id']), 'recomm_1'] = np.nan\n",
        "    table1.loc[table1['user_id'].isin(joined_df_2['user_id']), 'recomm_2'] = np.nan\n",
        "    table1.loc[table1['user_id'].isin(joined_df_3['user_id']), 'recomm_3'] = np.nan"
      ],
      "metadata": {
        "id": "8xuUVF5lX2DK"
      },
      "execution_count": null,
      "outputs": []
    },
    {
      "cell_type": "code",
      "source": [
        "pd.merge(demo_recom_temp,recomm_user_click[['user_id','product_id']].drop_duplicates() ,how = 'inner', left_on = ['user_id','product_id_1'], right_on = ['user_id','product_id'] )"
      ],
      "metadata": {
        "id": "nky77N-xgnBg"
      },
      "execution_count": null,
      "outputs": []
    },
    {
      "cell_type": "code",
      "source": [
        "# demo기반 추천 중 이미 클릭한 상품은 제거\n",
        "recomm_yn(demo_recom_temp,recomm_user_click)"
      ],
      "metadata": {
        "id": "xup_RMmvak8Y"
      },
      "execution_count": null,
      "outputs": []
    },
    {
      "cell_type": "code",
      "source": [
        "# 3개 모두 클릭했던 상품인지\n",
        "demo_recom_temp['recomm_null'] = demo_recom_temp['recomm_1'].fillna(0)+ demo_recom_temp['recomm_2'].fillna(0) + demo_recom_temp['recomm_3'].fillna(0)\n",
        "demo_recom_temp.head(20)"
      ],
      "metadata": {
        "id": "yNnDGoW9a21T"
      },
      "execution_count": null,
      "outputs": []
    },
    {
      "cell_type": "code",
      "source": [
        "# 3개 다 이미 클릭해서recomm_null==0 추천 불가능한 경우는 없음\n",
        "demo_recom_temp['recomm_null'].value_counts()"
      ],
      "metadata": {
        "id": "7V-cQ7JtbHfh"
      },
      "execution_count": null,
      "outputs": []
    },
    {
      "cell_type": "code",
      "source": [
        "# user_id 8798\t에게 7767이 추천됐지만, 이미 구매한 상품으로 recomm_1 == 0 적용\n",
        "demo_recom_temp[demo_recom_temp['recomm_null']==2]"
      ],
      "metadata": {
        "id": "7D3VT8OA5nbs"
      },
      "execution_count": null,
      "outputs": []
    },
    {
      "cell_type": "code",
      "source": [
        "demo_recom_temp['product_id_1'] = demo_recom_temp['product_id_1'] * demo_recom_temp['recomm_1']\n",
        "demo_recom_temp['product_id_2'] = demo_recom_temp['product_id_2'] * demo_recom_temp['recomm_2']\n",
        "demo_recom_temp['product_id_3'] = demo_recom_temp['product_id_3'] * demo_recom_temp['recomm_3']\n",
        "demo_recom_temp"
      ],
      "metadata": {
        "id": "sg_dY0Ca3g1K"
      },
      "execution_count": null,
      "outputs": []
    },
    {
      "cell_type": "code",
      "source": [
        "demo_recom_temp[demo_recom_temp['recomm_null']==2]"
      ],
      "metadata": {
        "id": "4Di8Y-I7D8Jh"
      },
      "execution_count": null,
      "outputs": []
    },
    {
      "cell_type": "code",
      "source": [
        "# nan인 경우 1순위 > 2순위 > 3순위 당기는 작업\n",
        "demo_recom_temp['product_id_1'] = demo_recom_temp['product_id_1'].combine_first(demo_recom_temp['product_id_2']).combine_first(demo_recom_temp['product_id_3'])"
      ],
      "metadata": {
        "id": "1aWdIFgsMRy6"
      },
      "execution_count": null,
      "outputs": []
    },
    {
      "cell_type": "code",
      "source": [
        "demo_recom_temp[demo_recom_temp['recomm_null']==2]"
      ],
      "metadata": {
        "id": "RnRqwP0cNgH4"
      },
      "execution_count": null,
      "outputs": []
    },
    {
      "cell_type": "code",
      "source": [
        "final_recomm = pd.concat([ibcf_recomm_temp, demo_recom_temp[['user_id','product_id_1','product_id_2','product_id_3']]],ignore_index=True)"
      ],
      "metadata": {
        "id": "kt3Hg195I9is"
      },
      "execution_count": null,
      "outputs": []
    },
    {
      "cell_type": "code",
      "source": [
        "len(ibcf_recomm_temp) ,len(demo_recom_temp)"
      ],
      "metadata": {
        "id": "xOcGiPM5Qsj9"
      },
      "execution_count": null,
      "outputs": []
    },
    {
      "cell_type": "code",
      "source": [
        "final_recomm.info()"
      ],
      "metadata": {
        "id": "jdvuvtFsQUxO"
      },
      "execution_count": null,
      "outputs": []
    },
    {
      "cell_type": "code",
      "source": [
        "_20230401_users_recomm_final = pd.merge(_20230401_users,final_recomm[['user_id','product_id_1']],how='left',on = 'user_id')"
      ],
      "metadata": {
        "id": "TQ7NjgPfIHLW"
      },
      "execution_count": null,
      "outputs": []
    },
    {
      "cell_type": "code",
      "source": [
        "#연령/성별 이슈로 추천이 붙지 않은 7명\n",
        "_20230401_users_recomm_final[_20230401_users_recomm_final['product_id_1'].isna()]"
      ],
      "metadata": {
        "id": "WZxxjSZ2TjEd"
      },
      "execution_count": null,
      "outputs": []
    },
    {
      "cell_type": "code",
      "source": [
        "# 전체 중 가장 많이 구매한 상품\n",
        "top1 = purchase_log.groupby('product_id')['user_id'].count().reset_index().sort_values(by='user_id',ascending=False).head(1)['product_id']\n",
        "top1"
      ],
      "metadata": {
        "id": "IVuDEKgbXJvM"
      },
      "execution_count": null,
      "outputs": []
    },
    {
      "cell_type": "code",
      "source": [
        "# 전체 중 가장 많이 구매한 상품으로 추천하기\n",
        "_20230401_users_recomm_final['product_id_1'].fillna(top1.item(),inplace=True)"
      ],
      "metadata": {
        "id": "B82xQQIOU4v8"
      },
      "execution_count": null,
      "outputs": []
    },
    {
      "cell_type": "code",
      "source": [
        "# 추천이 붙지 않은 case 없음\n",
        "_20230401_users_recomm_final[_20230401_users_recomm_final['product_id_1'].isna()]"
      ],
      "metadata": {
        "id": "uZ-7j_sGXWyx"
      },
      "execution_count": null,
      "outputs": []
    },
    {
      "cell_type": "code",
      "source": [
        "# product_id_1 타입 int로 변환\n",
        "_20230401_users_recomm_final['product_id_1'] = _20230401_users_recomm_final['product_id_1'].astype(int)\n",
        "_20230401_users_recomm_final.head(20)"
      ],
      "metadata": {
        "id": "N-TYcXEiXZ5f"
      },
      "execution_count": null,
      "outputs": []
    },
    {
      "cell_type": "code",
      "source": [
        "len(_20230401_users_recomm_final)"
      ],
      "metadata": {
        "id": "f-3n0L1EJHs7"
      },
      "execution_count": null,
      "outputs": []
    },
    {
      "cell_type": "code",
      "source": [
        "_20230401_users_recomm_final.to_csv('_20230401_users_recomm_final.csv',index=False)"
      ],
      "metadata": {
        "id": "4wwTcGlmXonH"
      },
      "execution_count": null,
      "outputs": []
    },
    {
      "cell_type": "code",
      "source": [
        "files.download('_20230401_users_recomm_final.csv')"
      ],
      "metadata": {
        "id": "XkuT209XiEUV"
      },
      "execution_count": null,
      "outputs": []
    },
    {
      "cell_type": "code",
      "source": [],
      "metadata": {
        "id": "HiqzPuBqiIP2"
      },
      "execution_count": null,
      "outputs": []
    }
  ]
}